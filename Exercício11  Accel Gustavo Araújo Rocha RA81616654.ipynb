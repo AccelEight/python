{
 "cells": [
  {
   "cell_type": "markdown",
   "metadata": {},
   "source": [
    "### Exercício 11 - Procedural e Funcional"
   ]
  },
  {
   "cell_type": "markdown",
   "metadata": {},
   "source": [
    "##### 2. Defina a função div que recebe como argumentos dois números naturais m e n e devolve o resultado da divisão inteira de m por n. Neste exercício você não pode recorrer às operações aritméticas de multiplicação, divisão e resto da divisão inteira."
   ]
  },
  {
   "cell_type": "code",
   "execution_count": 2,
   "metadata": {},
   "outputs": [
    {
     "name": "stdout",
     "output_type": "stream",
     "text": [
      "Digite um inteiro: 10\n",
      "Digite um operador (/): /\n",
      "Digite um inteiro: 2\n",
      "O resultado é 5 \n"
     ]
    }
   ],
   "source": [
    "OPERATORS = '/'\n",
    "\n",
    "def p_main():\n",
    "    number1 = p_get_number();\n",
    "    operator = p_get_operator();\n",
    "    number2 = p_get_number();\n",
    "    result = p_calculate(number1, operator, number2)\n",
    "    print('O resultado é %d ' % result)\n",
    "    \n",
    "def p_get_number():\n",
    "    while True:\n",
    "        s = input('Digite um inteiro: ')\n",
    "        try:\n",
    "            return int(s)\n",
    "        except ValueError:\n",
    "            print('Isto não é um inteiro.')\n",
    "            \n",
    "def p_get_operator():\n",
    "    while True:\n",
    "        s = input('Digite um operador (/): ')\n",
    "        if s in OPERATORS:\n",
    "            return s\n",
    "        print('Isto não é um operador válido.')\n",
    "        \n",
    "def p_calculate(number1,operator,number2):\n",
    "    if operator == '/':\n",
    "        return number1/number2\n",
    "    raise Exception('Operador inválido.')\n",
    "    \n",
    "p_main()"
   ]
  },
  {
   "cell_type": "markdown",
   "metadata": {},
   "source": [
    "##### 10. Defina a função inverteLista que recebe como argumento uma lista w e devolve a mesma lista mas invertida."
   ]
  },
  {
   "cell_type": "code",
   "execution_count": 4,
   "metadata": {},
   "outputs": [
    {
     "name": "stdout",
     "output_type": "stream",
     "text": [
      "Digite alguns numeros: 123456\n",
      "654321\n"
     ]
    }
   ],
   "source": [
    "nome = input ('Digite alguns numeros: ')\n",
    "print (nome [::-1].upper())\n"
   ]
  },
  {
   "cell_type": "markdown",
   "metadata": {},
   "source": [
    "##### 8.Defina a função junta que recebe como argumentos duas listas de números inteiros w1 e w2 e devolve a concatenação de w1 com w2 ."
   ]
  },
  {
   "cell_type": "code",
   "execution_count": 10,
   "metadata": {},
   "outputs": [
    {
     "name": "stdout",
     "output_type": "stream",
     "text": [
      "3 2 1\n",
      "3 2 1\n",
      "3 1 2\n",
      "3 2 1\n",
      "2 1 3\n",
      "1 2 3\n"
     ]
    }
   ],
   "source": [
    "lista = [(1,2,3), (1,3,2), (2,1,3), (2,3,1), (3,1,2), (3,2,1)]\n",
    "\n",
    "for n1,n2,n3 in lista:\n",
    "    if n1 > n2 and n3 > n3:\n",
    "        if n2 > n3:\n",
    "            print(f'{n1} {n2} {n3}')\n",
    "        else:\n",
    "            print(f'{n1} {n3} {n2}')\n",
    "    elif n2 > n1 and n2 > n3:\n",
    "        if n1 > n3:\n",
    "            print(f'{n2} {n1} {n3}')\n",
    "        else:\n",
    "            print(f'{n2} {n3} {n1}')\n",
    "    else:\n",
    "        if n1 > n2:\n",
    "            print(f'{n3} {n2} {n1}')\n",
    "        else:\n",
    "            print(f'{n3} {n2} {n1}')"
   ]
  },
  {
   "cell_type": "markdown",
   "metadata": {},
   "source": [
    "##### 1.Defina a função soma_nat que recebe como argumento um número natural n e devolve a soma de todos os números naturais até n."
   ]
  },
  {
   "cell_type": "code",
   "execution_count": 13,
   "metadata": {},
   "outputs": [],
   "source": [
    "def is_prime(num):\n",
    "    for n in range(2,num):\n",
    "        if num % n == 0:\n",
    "            print(num, 'não é natural')\n",
    "            break\n",
    "    else:\n",
    "        print(num, 'é natural')"
   ]
  },
  {
   "cell_type": "code",
   "execution_count": 17,
   "metadata": {},
   "outputs": [
    {
     "name": "stdout",
     "output_type": "stream",
     "text": [
      "7 é natural\n"
     ]
    }
   ],
   "source": [
    "is_prime(7)"
   ]
  },
  {
   "cell_type": "markdown",
   "metadata": {},
   "source": [
    "##### 6.Defina a função todos_imparesQ que recebe como argumento uma lista de números inteiros w e devolve True se w contém apenas úmeros ímpares e False em caso contrário."
   ]
  },
  {
   "cell_type": "code",
   "execution_count": 18,
   "metadata": {},
   "outputs": [],
   "source": [
    "import math\n",
    "def is_prime2(num):\n",
    "    if num % 2 == 0 and num > 2:\n",
    "        return False\n",
    "    for i in range(3, int(math.sqrt(num)) + 1, 2):\n",
    "        if num % i == 0:\n",
    "            return False\n",
    "    return True"
   ]
  },
  {
   "cell_type": "code",
   "execution_count": 20,
   "metadata": {},
   "outputs": [
    {
     "data": {
      "text/plain": [
       "True"
      ]
     },
     "execution_count": 20,
     "metadata": {},
     "output_type": "execute_result"
    }
   ],
   "source": [
    "is_prime2(7)"
   ]
  },
  {
   "cell_type": "code",
   "execution_count": 22,
   "metadata": {},
   "outputs": [
    {
     "data": {
      "text/plain": [
       "False"
      ]
     },
     "execution_count": 22,
     "metadata": {},
     "output_type": "execute_result"
    }
   ],
   "source": [
    "is_prime2(4)"
   ]
  }
 ],
 "metadata": {
  "kernelspec": {
   "display_name": "Python 3",
   "language": "python",
   "name": "python3"
  },
  "language_info": {
   "codemirror_mode": {
    "name": "ipython",
    "version": 3
   },
   "file_extension": ".py",
   "mimetype": "text/x-python",
   "name": "python",
   "nbconvert_exporter": "python",
   "pygments_lexer": "ipython3",
   "version": "3.6.5"
  }
 },
 "nbformat": 4,
 "nbformat_minor": 2
}
