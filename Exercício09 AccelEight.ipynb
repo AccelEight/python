{
 "cells": [
  {
   "cell_type": "markdown",
   "metadata": {},
   "source": [
    "#### Accel Gustavo Araújo Rocha   RA81616654"
   ]
  },
  {
   "cell_type": "code",
   "execution_count": 8,
   "metadata": {
    "collapsed": false
   },
   "outputs": [
    {
     "name": "stdout",
     "output_type": "stream",
     "text": [
      "3 2 1\n",
      "3 2 1\n",
      "3 1 2\n",
      "3 2 1\n",
      "2 1 3\n",
      "1 2 3\n"
     ]
    }
   ],
   "source": [
    "lista = [(1,2,3), (1,3,2), (2,1,3), (2,3,1), (3,1,2), (3,2,1)]\n",
    "\n",
    "for n1,n2,n3 in lista:\n",
    "    if n1 > n2 and n3 > n3:\n",
    "        if n2 > n3:\n",
    "            print(f'{n1} {n2} {n3}')\n",
    "        else:\n",
    "            print(f'{n1} {n3} {n2}')\n",
    "    elif n2 > n1 and n2 > n3:\n",
    "        if n1 > n3:\n",
    "            print(f'{n2} {n1} {n3}')\n",
    "        else:\n",
    "            print(f'{n2} {n3} {n1}')\n",
    "    else:\n",
    "        if n1 > n2:\n",
    "            print(f'{n3} {n2} {n1}')\n",
    "        else:\n",
    "            print(f'{n3} {n2} {n1}')\n",
    "    "
   ]
  },
  {
   "cell_type": "markdown",
   "metadata": {},
   "source": [
    "19."
   ]
  },
  {
   "cell_type": "code",
   "execution_count": 15,
   "metadata": {
    "collapsed": false
   },
   "outputs": [
    {
     "name": "stdout",
     "output_type": "stream",
     "text": [
      "120\n"
     ]
    }
   ],
   "source": [
    "n = 5\n",
    "fatorial = 1\n",
    "i = 1\n",
    "while i <= n:\n",
    "    fatorial *= i\n",
    "    i += 1\n",
    "print(fatorial)"
   ]
  },
  {
   "cell_type": "markdown",
   "metadata": {},
   "source": [
    "20."
   ]
  },
  {
   "cell_type": "code",
   "execution_count": 26,
   "metadata": {
    "collapsed": false
   },
   "outputs": [
    {
     "name": "stdout",
     "output_type": "stream",
     "text": [
      "6.066627765079777\n"
     ]
    }
   ],
   "source": [
    "n = 10\n",
    "num = 1\n",
    "denominador = 1\n",
    "soma = 0\n",
    "while num <= n:\n",
    "    soma += num/denominador\n",
    "    num += 1\n",
    "    denominador += 2\n",
    "print(soma)"
   ]
  },
  {
   "cell_type": "code",
   "execution_count": 25,
   "metadata": {
    "collapsed": false
   },
   "outputs": [
    {
     "name": "stdout",
     "output_type": "stream",
     "text": [
      "6.066627765079777\n"
     ]
    }
   ],
   "source": [
    "n = 10\n",
    "num = list(range (1,n+1))\n",
    "denominador = list(range (1,2*(n),2))\n",
    "fracao = list(zip(num,denominador))\n",
    "soma = 0\n",
    "\n",
    "for i,j in fracao:\n",
    "    soma += i/j\n",
    "print(soma)\n"
   ]
  },
  {
   "cell_type": "code",
   "execution_count": 29,
   "metadata": {
    "collapsed": false
   },
   "outputs": [
    {
     "name": "stdout",
     "output_type": "stream",
     "text": [
      "6.066627765079777\n"
     ]
    }
   ],
   "source": [
    "n = 10\n",
    "soma = 0\n",
    "\n",
    "for i,j in zip(range(1,n+1),range(1,2*(n),2)):\n",
    "    soma += i/j\n",
    "print(soma)"
   ]
  },
  {
   "cell_type": "code",
   "execution_count": null,
   "metadata": {
    "collapsed": true
   },
   "outputs": [],
   "source": []
  }
 ],
 "metadata": {
  "kernelspec": {
   "display_name": "Python 3",
   "language": "python",
   "name": "python3"
  },
  "language_info": {
   "codemirror_mode": {
    "name": "ipython",
    "version": 3
   },
   "file_extension": ".py",
   "mimetype": "text/x-python",
   "name": "python",
   "nbconvert_exporter": "python",
   "pygments_lexer": "ipython3",
   "version": "3.6.0"
  }
 },
 "nbformat": 4,
 "nbformat_minor": 2
}
