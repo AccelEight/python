{
 "cells": [
  {
   "cell_type": "markdown",
   "metadata": {},
   "source": [
    "#### Accel Gustavo Araújo Rocha\n"
   ]
  },
  {
   "cell_type": "markdown",
   "metadata": {},
   "source": [
    "##### 3 Mestre Yoda:\n",
    "Dada uma sentença, a função deve retornar a sentença com as palavras na ordem reversa. Exemplo: \n",
    "mestre_yoda('Eu estou em casa') --> 'casa em estou Eu' \n",
    "mestre_yoda('Estamos prontos') --> 'prontos Estamos' \n"
   ]
  },
  {
   "cell_type": "code",
   "execution_count": 1,
   "metadata": {
    "collapsed": false
   },
   "outputs": [],
   "source": [
    "def mestre_yoda(s):\n",
    "    lista = s.split()\n",
    "    lista = lista[::-1]\n",
    "    frase = \"\"\n",
    "    for p in lista:\n",
    "        frase += \" \"+ p\n",
    "    return frase\n",
    "    "
   ]
  },
  {
   "cell_type": "code",
   "execution_count": 2,
   "metadata": {
    "collapsed": false
   },
   "outputs": [
    {
     "name": "stdout",
     "output_type": "stream",
     "text": [
      " casa em estou Eu\n",
      " prontos Estamos\n"
     ]
    }
   ],
   "source": [
    "print(mestre_yoda(\"Eu estou em casa\"))\n",
    "print(mestre_yoda(\"Estamos prontos\"))"
   ]
  },
  {
   "cell_type": "markdown",
   "metadata": {},
   "source": [
    "#### 7 Linha:\n",
    "Crie a classe Linha que tem dois atributos, coordenada1 e coordenada2. Cada coordenada é uma tupla que carrega duas coordenadas cartesianas (x,y) que denotam pontos do segmento de reta. Faça métodos que calculem o comprimento do segmento de reta e sua inclinação. "
   ]
  },
  {
   "cell_type": "code",
   "execution_count": 10,
   "metadata": {
    "collapsed": false
   },
   "outputs": [],
   "source": [
    "class Linha:\n",
    "    def __init__(self,coordenada1,coordenada2):\n",
    "        self._coordenada1 = coordenada1\n",
    "        self._coordenada2 = coordenada2\n",
    "        \n",
    "    def comprimento_reta(self):\n",
    "        x = coordenada2[0]-coordenada1[0]\n",
    "        y = coordenada2[1]-coordenada1[1]\n",
    "        h = (x**2 + y**2)**(0.5)\n",
    "        return h\n",
    "    \n",
    "    def set_coordenada1(self, coordenada1):\n",
    "        self._coordenada1 = coordenada1\n",
    "        \n",
    "    def set_coordenada2(self, coordenada2):\n",
    "        self._coordenada2 = coordenada2\n",
    "    \n",
    "    def inclinacao_reta(self):\n",
    "        x = coordenada2[0]-coordenada1[0]\n",
    "        y = coordenada2[1]-coordenada1[1]\n",
    "        h = (x**2 + y**2)**(0.5)\n",
    "        return y/h"
   ]
  },
  {
   "cell_type": "code",
   "execution_count": 13,
   "metadata": {
    "collapsed": false
   },
   "outputs": [
    {
     "name": "stdout",
     "output_type": "stream",
     "text": [
      "comprimento: 5.385164807134504\n",
      "inclinação: 0.9284766908852594\n",
      "comprimento: 17.0\n",
      "inclinação: 0.47058823529411764\n",
      "comprimento: 5.385164807134504\n",
      "inclinação: -0.3713906763541037\n"
     ]
    }
   ],
   "source": [
    "coordenada1 = (-5,-10)\n",
    "coordenada2 = (-3,-5)\n",
    "linha = Linha(coordenada1,coordenada2)\n",
    "print('comprimento:', linha.comprimento_reta())\n",
    "print('inclinação:', linha.inclinacao_reta())\n",
    "\n",
    "coordenada1 = (10,-5)\n",
    "coordenada2 = (-5,3)\n",
    "linha.set_coordenada1(coordenada1)\n",
    "linha.set_coordenada2(coordenada2)\n",
    "print('comprimento:', linha.comprimento_reta())\n",
    "print('inclinação:', linha.inclinacao_reta())\n",
    "\n",
    "coordenada1 = (10,5)\n",
    "coordenada2 = (5,3)\n",
    "linha.set_coordenada1(coordenada1)\n",
    "linha.set_coordenada2(coordenada2)\n",
    "print('comprimento:', linha.comprimento_reta())\n",
    "print('inclinação:', linha.inclinacao_reta())\n"
   ]
  },
  {
   "cell_type": "code",
   "execution_count": null,
   "metadata": {
    "collapsed": true
   },
   "outputs": [],
   "source": []
  }
 ],
 "metadata": {
  "kernelspec": {
   "display_name": "Python 3",
   "language": "python",
   "name": "python3"
  },
  "language_info": {
   "codemirror_mode": {
    "name": "ipython",
    "version": 3
   },
   "file_extension": ".py",
   "mimetype": "text/x-python",
   "name": "python",
   "nbconvert_exporter": "python",
   "pygments_lexer": "ipython3",
   "version": "3.6.0"
  }
 },
 "nbformat": 4,
 "nbformat_minor": 2
}
